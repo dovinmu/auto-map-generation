{
 "cells": [
  {
   "cell_type": "code",
   "execution_count": 1,
   "metadata": {},
   "outputs": [
    {
     "name": "stderr",
     "output_type": "stream",
     "text": [
      "C:\\ProgramData\\Anaconda3\\lib\\importlib\\_bootstrap.py:219: RuntimeWarning: cymem.cymem.Pool size changed, may indicate binary incompatibility. Expected 48 from C header, got 64 from PyObject\n",
      "  return f(*args, **kwds)\n",
      "C:\\ProgramData\\Anaconda3\\lib\\importlib\\_bootstrap.py:219: RuntimeWarning: cymem.cymem.Address size changed, may indicate binary incompatibility. Expected 24 from C header, got 40 from PyObject\n",
      "  return f(*args, **kwds)\n"
     ]
    }
   ],
   "source": [
    "import spacy\n",
    "import en_core_web_sm\n",
    "from shapely.geometry import Point"
   ]
  },
  {
   "cell_type": "code",
   "execution_count": 2,
   "metadata": {},
   "outputs": [
    {
     "name": "stderr",
     "output_type": "stream",
     "text": [
      "C:\\ProgramData\\Anaconda3\\lib\\importlib\\_bootstrap.py:219: RuntimeWarning: cymem.cymem.Pool size changed, may indicate binary incompatibility. Expected 48 from C header, got 64 from PyObject\n",
      "  return f(*args, **kwds)\n",
      "C:\\ProgramData\\Anaconda3\\lib\\importlib\\_bootstrap.py:219: RuntimeWarning: cymem.cymem.Address size changed, may indicate binary incompatibility. Expected 24 from C header, got 40 from PyObject\n",
      "  return f(*args, **kwds)\n"
     ]
    }
   ],
   "source": [
    "nlp = en_core_web_sm.load()"
   ]
  },
  {
   "cell_type": "code",
   "execution_count": 3,
   "metadata": {},
   "outputs": [],
   "source": [
    "doc = nlp('''\n",
    "Some contemporaries alleged that Bonaparte was put under house arrest at Nice for his association with the Robespierres following their fall in the Thermidorian Reaction in July 1794, but Napoleon's secretary Bourrienne disputed the allegation in his memoirs. According to Bourrienne, jealousy was responsible, between the Army of the Alps and the Army of Italy (with whom Napoleon was seconded at the time).[47] Bonaparte dispatched an impassioned defense in a letter to the commissar Saliceti, and he was subsequently acquitted of any wrongdoing.[48] He was released within two weeks and, due to his technical skills, was asked to draw up plans to attack Italian positions in the context of France's war with Austria. He also took part in an expedition to take back Corsica from the British, but the French were repulsed by the British Royal Navy.[49]\n",
    "\n",
    "By 1795, Bonaparte had become engaged to Désirée Clary, daughter of François Clary. Désirée's sister Julie Clary had married Bonaparte's elder brother Joseph.[50] In April 1795, he was assigned to the Army of the West, which was engaged in the War in the Vendée—a civil war and royalist counter-revolution in Vendée, a region in west central France on the Atlantic Ocean. As an infantry command, it was a demotion from artillery general—for which the army already had a full quota—and he pleaded poor health to avoid the posting.[51]\n",
    "Etching of a street, there are many pockets of smoke due to a group of republican artillery firing on royalists across the street at the entrance to a building\n",
    "Journée du 13 Vendémiaire, artillery fire in front of the Church of Saint-Roch, Paris, Rue Saint-Honoré\n",
    "\n",
    "He was moved to the Bureau of Topography of the Committee of Public Safety and sought unsuccessfully to be transferred to Constantinople in order to offer his services to the Sultan.[52] During this period, he wrote the romantic novella Clisson et Eugénie, about a soldier and his lover, in a clear parallel to Bonaparte's own relationship with Désirée.[53] On 15 September, Bonaparte was removed from the list of generals in regular service for his refusal to serve in the Vendée campaign. He faced a difficult financial situation and reduced career prospects.[54]\n",
    "\n",
    "On 3 October, royalists in Paris declared a rebellion against the National Convention.[55] Paul Barras, a leader of the Thermidorian Reaction, knew of Bonaparte's military exploits at Toulon and gave him command of the improvised forces in defence of the Convention in the Tuileries Palace. Napoleon had seen the massacre of the King's Swiss Guard there three years earlier and realised that artillery would be the key to its defence.[28] \n",
    "''')"
   ]
  },
  {
   "cell_type": "code",
   "execution_count": 4,
   "metadata": {},
   "outputs": [
    {
     "data": {
      "text/plain": [
       "[,\n",
       " Nice,\n",
       " Alps,\n",
       " France,\n",
       " Austria,\n",
       " François Clary,\n",
       " West,\n",
       " France,\n",
       " the Atlantic Ocean,\n",
       " ,\n",
       " ,\n",
       " Vendémiaire,\n",
       " Paris,\n",
       " Paris,\n",
       " Toulon,\n",
       " ]"
      ]
     },
     "execution_count": 4,
     "metadata": {},
     "output_type": "execute_result"
    }
   ],
   "source": [
    "locations = [X for X in doc.ents if X.label_ in ['GPE', 'LOC']]\n",
    "locations"
   ]
  },
  {
   "cell_type": "code",
   "execution_count": 5,
   "metadata": {},
   "outputs": [],
   "source": [
    "import geocoder"
   ]
  },
  {
   "cell_type": "code",
   "execution_count": 6,
   "metadata": {},
   "outputs": [],
   "source": [
    "coordinates = { X.text: geocoder.osm(X.text) for X in locations }"
   ]
  },
  {
   "cell_type": "code",
   "execution_count": 7,
   "metadata": {},
   "outputs": [
    {
     "data": {
      "text/plain": [
       "{'type': 'FeatureCollection',\n",
       " 'features': [{'type': 'Feature',\n",
       "   'properties': {'accuracy': 0.789956108924331,\n",
       "    'address': \"Nice, Alpes-Maritimes, Provence-Alpes-Côte d'Azur, France métropolitaine, France\",\n",
       "    'bbox': [7.1819535, 43.6454189, 7.323912, 43.7607635],\n",
       "    'city': 'Nice',\n",
       "    'confidence': 3,\n",
       "    'country': 'France',\n",
       "    'country_code': 'fr',\n",
       "    'county': 'Alpes-Maritimes',\n",
       "    'icon': 'https://nominatim.openstreetmap.org/images/mapicons/poi_place_city.p.20.png',\n",
       "    'importance': 0.789956108924331,\n",
       "    'lat': 43.7009358,\n",
       "    'lng': 7.2683912,\n",
       "    'ok': True,\n",
       "    'osm_id': '170100',\n",
       "    'osm_type': 'relation',\n",
       "    'place_id': '198189319',\n",
       "    'place_rank': 16,\n",
       "    'quality': 'city',\n",
       "    'raw': {'place_id': '198189319',\n",
       "     'licence': 'Data © OpenStreetMap contributors, ODbL 1.0. https://osm.org/copyright',\n",
       "     'osm_type': 'relation',\n",
       "     'osm_id': '170100',\n",
       "     'boundingbox': ['43.6454189', '43.7607635', '7.1819535', '7.323912'],\n",
       "     'lat': '43.7009358',\n",
       "     'lon': '7.2683912',\n",
       "     'display_name': \"Nice, Alpes-Maritimes, Provence-Alpes-Côte d'Azur, France métropolitaine, France\",\n",
       "     'place_rank': 16,\n",
       "     'category': 'place',\n",
       "     'type': 'city',\n",
       "     'importance': 0.789956108924331,\n",
       "     'icon': 'https://nominatim.openstreetmap.org/images/mapicons/poi_place_city.p.20.png',\n",
       "     'address': {'city': 'Nice',\n",
       "      'county': 'Alpes-Maritimes',\n",
       "      'state': \"Provence-Alpes-Côte d'Azur\",\n",
       "      'country': 'France',\n",
       "      'country_code': 'fr'}},\n",
       "    'region': \"Provence-Alpes-Côte d'Azur\",\n",
       "    'state': \"Provence-Alpes-Côte d'Azur\",\n",
       "    'status': 'OK',\n",
       "    'type': 'city'},\n",
       "   'bbox': [7.1819535, 43.6454189, 7.323912, 43.7607635],\n",
       "   'geometry': {'type': 'Point', 'coordinates': [7.2683912, 43.7009358]}}]}"
      ]
     },
     "execution_count": 7,
     "metadata": {},
     "output_type": "execute_result"
    }
   ],
   "source": [
    "coordinates['Nice'].geojson"
   ]
  },
  {
   "cell_type": "code",
   "execution_count": 8,
   "metadata": {},
   "outputs": [
    {
     "data": {
      "text/plain": [
       "{'Nice': <shapely.geometry.point.Point at 0x2daeafcd710>,\n",
       " 'Alps': <shapely.geometry.point.Point at 0x2daeafe76a0>,\n",
       " 'France': <shapely.geometry.point.Point at 0x2daeafe7710>,\n",
       " 'Austria': <shapely.geometry.point.Point at 0x2daeaf79898>,\n",
       " 'West': <shapely.geometry.point.Point at 0x2daeaf79ac8>,\n",
       " 'the Atlantic Ocean': <shapely.geometry.point.Point at 0x2daeaf79da0>,\n",
       " 'Vendémiaire': <shapely.geometry.point.Point at 0x2daeaf799b0>,\n",
       " 'Paris': <shapely.geometry.point.Point at 0x2daeaf79be0>,\n",
       " 'Toulon': <shapely.geometry.point.Point at 0x2daeaf79cc0>}"
      ]
     },
     "execution_count": 8,
     "metadata": {},
     "output_type": "execute_result"
    }
   ],
   "source": [
    "latlngs = {}\n",
    "for name,item in coordinates.items():\n",
    "    if item.geojson['features']:\n",
    "        latlngs[name] = Point(\n",
    "            item.geojson['features'][0]['properties']['lng'],\n",
    "            item.geojson['features'][0]['properties']['lat']\n",
    "        )\n",
    "latlngs"
   ]
  },
  {
   "cell_type": "code",
   "execution_count": 9,
   "metadata": {},
   "outputs": [],
   "source": [
    "import geopandas as gpd\n",
    "import pandas as pd\n",
    "from shapely.geometry import Point"
   ]
  },
  {
   "cell_type": "code",
   "execution_count": 10,
   "metadata": {},
   "outputs": [
    {
     "data": {
      "text/plain": [
       "[<shapely.geometry.point.Point at 0x2daeafcd710>,\n",
       " <shapely.geometry.point.Point at 0x2daeafe76a0>,\n",
       " <shapely.geometry.point.Point at 0x2daeafe7710>,\n",
       " <shapely.geometry.point.Point at 0x2daeaf79898>,\n",
       " <shapely.geometry.point.Point at 0x2daeaf79ac8>,\n",
       " <shapely.geometry.point.Point at 0x2daeaf79da0>,\n",
       " <shapely.geometry.point.Point at 0x2daeaf799b0>,\n",
       " <shapely.geometry.point.Point at 0x2daeaf79be0>,\n",
       " <shapely.geometry.point.Point at 0x2daeaf79cc0>]"
      ]
     },
     "execution_count": 10,
     "metadata": {},
     "output_type": "execute_result"
    }
   ],
   "source": [
    "list(latlngs.values())"
   ]
  },
  {
   "cell_type": "code",
   "execution_count": 11,
   "metadata": {},
   "outputs": [
    {
     "data": {
      "text/html": [
       "<div>\n",
       "<style scoped>\n",
       "    .dataframe tbody tr th:only-of-type {\n",
       "        vertical-align: middle;\n",
       "    }\n",
       "\n",
       "    .dataframe tbody tr th {\n",
       "        vertical-align: top;\n",
       "    }\n",
       "\n",
       "    .dataframe thead th {\n",
       "        text-align: right;\n",
       "    }\n",
       "</style>\n",
       "<table border=\"1\" class=\"dataframe\">\n",
       "  <thead>\n",
       "    <tr style=\"text-align: right;\">\n",
       "      <th></th>\n",
       "      <th>Coordinates</th>\n",
       "    </tr>\n",
       "  </thead>\n",
       "  <tbody>\n",
       "    <tr>\n",
       "      <th>Nice</th>\n",
       "      <td>POINT (7.2683912 43.7009358)</td>\n",
       "    </tr>\n",
       "    <tr>\n",
       "      <th>Alps</th>\n",
       "      <td>POINT (9.23790745975765 45.9531685)</td>\n",
       "    </tr>\n",
       "    <tr>\n",
       "      <th>France</th>\n",
       "      <td>POINT (1.8883335 46.603354)</td>\n",
       "    </tr>\n",
       "    <tr>\n",
       "      <th>Austria</th>\n",
       "      <td>POINT (13.199959 47.2000338)</td>\n",
       "    </tr>\n",
       "    <tr>\n",
       "      <th>West</th>\n",
       "      <td>POINT (34.5731341 0.5090396)</td>\n",
       "    </tr>\n",
       "    <tr>\n",
       "      <th>the Atlantic Ocean</th>\n",
       "      <td>POINT (-38.320312 13.581921)</td>\n",
       "    </tr>\n",
       "    <tr>\n",
       "      <th>Vendémiaire</th>\n",
       "      <td>POINT (3.0773133 50.4801385)</td>\n",
       "    </tr>\n",
       "    <tr>\n",
       "      <th>Paris</th>\n",
       "      <td>POINT (2.3514992 48.8566101)</td>\n",
       "    </tr>\n",
       "    <tr>\n",
       "      <th>Toulon</th>\n",
       "      <td>POINT (5.9304919 43.1257311)</td>\n",
       "    </tr>\n",
       "  </tbody>\n",
       "</table>\n",
       "</div>"
      ],
      "text/plain": [
       "                                            Coordinates\n",
       "Nice                       POINT (7.2683912 43.7009358)\n",
       "Alps                POINT (9.23790745975765 45.9531685)\n",
       "France                      POINT (1.8883335 46.603354)\n",
       "Austria                    POINT (13.199959 47.2000338)\n",
       "West                       POINT (34.5731341 0.5090396)\n",
       "the Atlantic Ocean         POINT (-38.320312 13.581921)\n",
       "Vendémiaire                POINT (3.0773133 50.4801385)\n",
       "Paris                      POINT (2.3514992 48.8566101)\n",
       "Toulon                     POINT (5.9304919 43.1257311)"
      ]
     },
     "execution_count": 11,
     "metadata": {},
     "output_type": "execute_result"
    }
   ],
   "source": [
    "df = pd.DataFrame(list(latlngs.values()), index=list(latlngs.keys()), columns=['Coordinates'])\n",
    "df"
   ]
  },
  {
   "cell_type": "code",
   "execution_count": 12,
   "metadata": {},
   "outputs": [],
   "source": [
    "import matplotlib.pyplot as plt"
   ]
  },
  {
   "cell_type": "code",
   "execution_count": 13,
   "metadata": {},
   "outputs": [],
   "source": [
    "gdf = gpd.GeoDataFrame(df, geometry='Coordinates')"
   ]
  },
  {
   "cell_type": "code",
   "execution_count": 14,
   "metadata": {},
   "outputs": [
    {
     "ename": "NameError",
     "evalue": "name 'geopandas' is not defined",
     "output_type": "error",
     "traceback": [
      "\u001b[1;31m---------------------------------------------------------------------------\u001b[0m",
      "\u001b[1;31mNameError\u001b[0m                                 Traceback (most recent call last)",
      "\u001b[1;32m<ipython-input-14-21cf0a24543a>\u001b[0m in \u001b[0;36m<module>\u001b[1;34m()\u001b[0m\n\u001b[1;32m----> 1\u001b[1;33m \u001b[0mworld\u001b[0m \u001b[1;33m=\u001b[0m \u001b[0mgeopandas\u001b[0m\u001b[1;33m.\u001b[0m\u001b[0mread_file\u001b[0m\u001b[1;33m(\u001b[0m\u001b[0mgeopandas\u001b[0m\u001b[1;33m.\u001b[0m\u001b[0mdatasets\u001b[0m\u001b[1;33m.\u001b[0m\u001b[0mget_path\u001b[0m\u001b[1;33m(\u001b[0m\u001b[1;34m'naturalearth_lowres'\u001b[0m\u001b[1;33m)\u001b[0m\u001b[1;33m)\u001b[0m\u001b[1;33m\u001b[0m\u001b[0m\n\u001b[0m",
      "\u001b[1;31mNameError\u001b[0m: name 'geopandas' is not defined"
     ]
    }
   ],
   "source": [
    "world = geopandas.read_file(geopandas.datasets.get_path('naturalearth_lowres'))"
   ]
  },
  {
   "cell_type": "code",
   "execution_count": null,
   "metadata": {},
   "outputs": [],
   "source": [
    "ax = world.plot(\n",
    "    color='white', edgecolor='black', figsize=(12,12)\n",
    ")\n",
    "\n",
    "gdf.plot(ax=ax, color='red')\n",
    "for idx,row in gdf.iterrows():\n",
    "    text_coords = [arr.tolist()[0] for arr in row.Coordinates.xy]\n",
    "    plt.annotate(s=idx, xy=text_coords, horizontalalignment='center', size=\"medium\")\n",
    "\n",
    "plt.xlim(-25, 30)\n",
    "plt.ylim(25, 65)\n",
    "plt.show()"
   ]
  },
  {
   "cell_type": "code",
   "execution_count": null,
   "metadata": {},
   "outputs": [],
   "source": []
  }
 ],
 "metadata": {
  "kernelspec": {
   "display_name": "Python 3",
   "language": "python",
   "name": "python3"
  },
  "language_info": {
   "codemirror_mode": {
    "name": "ipython",
    "version": 3
   },
   "file_extension": ".py",
   "mimetype": "text/x-python",
   "name": "python",
   "nbconvert_exporter": "python",
   "pygments_lexer": "ipython3",
   "version": "3.6.6"
  }
 },
 "nbformat": 4,
 "nbformat_minor": 2
}
