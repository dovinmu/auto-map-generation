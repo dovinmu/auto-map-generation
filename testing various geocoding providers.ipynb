{
 "cells": [
  {
   "cell_type": "code",
   "execution_count": null,
   "metadata": {},
   "outputs": [
    {
     "name": "stderr",
     "output_type": "stream",
     "text": [
      "C:\\ProgramData\\Anaconda3\\lib\\importlib\\_bootstrap.py:219: RuntimeWarning: cymem.cymem.Pool size changed, may indicate binary incompatibility. Expected 48 from C header, got 64 from PyObject\n",
      "  return f(*args, **kwds)\n",
      "C:\\ProgramData\\Anaconda3\\lib\\importlib\\_bootstrap.py:219: RuntimeWarning: cymem.cymem.Address size changed, may indicate binary incompatibility. Expected 24 from C header, got 40 from PyObject\n",
      "  return f(*args, **kwds)\n",
      "C:\\ProgramData\\Anaconda3\\lib\\importlib\\_bootstrap.py:219: RuntimeWarning: cymem.cymem.Pool size changed, may indicate binary incompatibility. Expected 48 from C header, got 64 from PyObject\n",
      "  return f(*args, **kwds)\n",
      "C:\\ProgramData\\Anaconda3\\lib\\importlib\\_bootstrap.py:219: RuntimeWarning: cymem.cymem.Address size changed, may indicate binary incompatibility. Expected 24 from C header, got 40 from PyObject\n",
      "  return f(*args, **kwds)\n"
     ]
    }
   ],
   "source": [
    "import geocoder\n",
    "# g = geocoder.arcgis('San Francisco, CA')\n",
    "from text_to_places import *\n",
    "from map_places import *"
   ]
  },
  {
   "cell_type": "code",
   "execution_count": null,
   "metadata": {
    "scrolled": true
   },
   "outputs": [],
   "source": [
    "# define a list of locations to test, and a list of locators\n",
    "text = '''\n",
    "After delays, the voyage began on 27 December 1831; it lasted almost five years. As FitzRoy had intended, Darwin spent most of that time on land investigating geology and making natural history collections, while HMS Beagle surveyed and charted coasts.[11][41] He kept careful notes of his observations and theoretical speculations, and at intervals during the voyage his specimens were sent to Cambridge together with letters including a copy of his journal for his family.[42] He had some expertise in geology, beetle collecting and dissecting marine invertebrates, but in all other areas was a novice and ably collected specimens for expert appraisal.[43] Despite suffering badly from seasickness, Darwin wrote copious notes while on board the ship. Most of his zoology notes are about marine invertebrates, starting with plankton collected in a calm spell.[41][44]\n",
    "\n",
    "On their first stop ashore at St Jago in Cape Verde, Darwin found that a white band high in the volcanic rock cliffs included seashells. FitzRoy had given him the first volume of Charles Lyell's Principles of Geology, which set out uniformitarian concepts of land slowly rising or falling over immense periods,[II] and Darwin saw things Lyell's way, theorising and thinking of writing a book on geology.[45] When they reached Brazil, Darwin was delighted by the tropical forest,[46] but detested the sight of slavery, and disputed this issue with Fitzroy.[47]\n",
    "\n",
    "The survey continued to the south in Patagonia. They stopped at Bahía Blanca, and in cliffs near Punta Alta Darwin made a major find of fossil bones of huge extinct mammals beside modern seashells, indicating recent extinction with no signs of change in climate or catastrophe. He identified the little-known Megatherium by a tooth and its association with bony armour, which had at first seemed to him to be like a giant version of the armour on local armadillos. The finds brought great interest when they reached England.[48][49]\n",
    "\n",
    "On rides with gauchos into the interior to explore geology and collect more fossils, Darwin gained social, political and anthropological insights into both native and colonial people at a time of revolution, and learnt that two types of rhea had separate but overlapping territories.[50][51] Further south, he saw stepped plains of shingle and seashells as raised beaches showing a series of elevations. He read Lyell's second volume and accepted its view of \"centres of creation\" of species, but his discoveries and theorising challenged Lyell's ideas of smooth continuity and of extinction of species.\n",
    "\n",
    "Darwin experienced an earthquake in Chile and saw signs that the land had just been raised, including mussel-beds stranded above high tide. High in the Andes he saw seashells, and several fossil trees that had grown on a sand beach. He theorised that as the land rose, oceanic islands sank, and coral reefs round them grew to form atolls.[57][58]\n",
    "\n",
    "On the geologically new Galápagos Islands, Darwin looked for evidence attaching wildlife to an older \"centre of creation\", and found mockingbirds allied to those in Chile but differing from island to island. He heard that slight variations in the shape of tortoise shells showed which island they came from, but failed to collect them, even after eating tortoises taken on board as food.[59][60] In Australia, the marsupial rat-kangaroo and the platypus seemed so unusual that Darwin thought it was almost as though two distinct Creators had been at work.[61] He found the Aborigines \"good-humoured & pleasant\", and noted their depletion by European settlement.[62]\n",
    "\n",
    "FitzRoy investigated how the atolls of the Cocos (Keeling) Islands had formed, and the survey supported Darwin's theorising.[58] FitzRoy began writing the official Narrative of the Beagle voyages, and after reading Darwin's diary he proposed incorporating it into the account.[63] Darwin's Journal was eventually rewritten as a separate third volume, on natural history.[64]\n",
    "\n",
    "In Cape Town, Darwin and FitzRoy met John Herschel, who had recently written to Lyell praising his uniformitarianism as opening bold speculation on \"that mystery of mysteries, the replacement of extinct species by others\" as \"a natural in contradistinction to a miraculous process\".[65] When organising his notes as the ship sailed home, Darwin wrote that, if his growing suspicions about the mockingbirds, the tortoises and the Falkland Islands fox were correct, \"such facts undermine the stability of Species\", then cautiously added \"would\" before \"undermine\".[66] He later wrote that such facts \"seemed to me to throw some light on the origin of species\".\n",
    "'''\n",
    "\n",
    "'''\n",
    "the list of what we want:\n",
    "Cambridge, St. Jago, Cape Verde, Brazil, Patagonia, Punta Alta, England, \n",
    "\n",
    "'''\n",
    "\n",
    "import wikipedia\n",
    "# text = wikipedia.page(\"Middle Earth\").content\n",
    "locators = [\n",
    "    geocoder.osm, \n",
    "    geocoder.arcgis\n",
    "]\n",
    "import geopandas as gpd\n",
    "\n",
    "# print('locations:', [loc[0] for loc in locs])\n",
    "world = gpd.read_file(gpd.datasets.get_path('naturalearth_lowres'))\n",
    "ax = world.plot(color='white', edgecolor='gray', figsize=(20,20))\n",
    "\n",
    "colors = ['red', 'green']\n",
    "for i,locator in enumerate(locators):\n",
    "    print(locator.__name__.upper())\n",
    "    gdf = makeDataFrame(text, locator=locator)\n",
    "    mapCategory(gdf, ax, colors[i], locator.__name__)\n",
    "    print('\\n')\n",
    "\n",
    "bbox = { 'xmax': -70, 'xmin': -125, 'ymax': 55, 'ymin': 30}\n",
    "# plt.xlim(bbox['xmin'], bbox['xmax'])\n",
    "# plt.ylim(bbox['ymin'], bbox['ymax'])\n",
    "\n",
    "plt.title(\"Voyage of the Beagle (Charles Darwin article on wikipedia)\")\n",
    "plt.legend()\n",
    "plt.show()"
   ]
  },
  {
   "cell_type": "code",
   "execution_count": null,
   "metadata": {},
   "outputs": [],
   "source": [
    "gdf"
   ]
  }
 ],
 "metadata": {
  "kernelspec": {
   "display_name": "Python 3",
   "language": "python",
   "name": "python3"
  },
  "language_info": {
   "codemirror_mode": {
    "name": "ipython",
    "version": 3
   },
   "file_extension": ".py",
   "mimetype": "text/x-python",
   "name": "python",
   "nbconvert_exporter": "python",
   "pygments_lexer": "ipython3",
   "version": "3.6.6"
  }
 },
 "nbformat": 4,
 "nbformat_minor": 2
}
