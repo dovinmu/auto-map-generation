{
 "cells": [
  {
   "cell_type": "code",
   "execution_count": 1,
   "metadata": {},
   "outputs": [],
   "source": [
    "import spacy\n",
    "import en_core_web_sm\n",
    "from shapely.geometry import Point"
   ]
  },
  {
   "cell_type": "code",
   "execution_count": 2,
   "metadata": {},
   "outputs": [],
   "source": [
    "import text_to_places\n",
    "from text_to_places import *"
   ]
  },
  {
   "cell_type": "code",
   "execution_count": 3,
   "metadata": {},
   "outputs": [],
   "source": [
    "nlp = en_core_web_sm.load()"
   ]
  },
  {
   "cell_type": "code",
   "execution_count": 5,
   "metadata": {},
   "outputs": [],
   "source": [
    "import wikipedia\n",
    "doc = wikipedia.page(\"Charles_Darwin\")\n",
    "text = doc.content"
   ]
  },
  {
   "cell_type": "code",
   "execution_count": 329,
   "metadata": {},
   "outputs": [],
   "source": [
    "\n",
    "#del DependencyParser\n",
    "#from spacy.pipeline import DependencyParser\n",
    "# #parser = DependencyParser(nlp.vocab)\n",
    "# d = nlp(rev.content.strip('\\n'))\n",
    "# from spacy.symbols import VERB, nsubj, pobj, PROPN\n",
    "# for x in d:\n",
    "#     if x.ent_type_ in ['GPE', 'LOC'] and x.pos_ == 'PROPN' and x.dep_ == 'pobj' and x.head.text in ['in', 'at']:\n",
    "#            # print(x, x.pos_)\n",
    "#             h = x.head.head\n",
    "#             print(h.pos_)\n",
    "#             if h.pos_ == 'VERB':\n",
    "#                 rest = h.subtree\n",
    "#                 print(' '.join([w.text for w in rest]))\n",
    "#                 print([c for c in h.children if c.dep_ == 'nsubj'], '\\n')\n"
   ]
  },
  {
   "cell_type": "code",
   "execution_count": 38,
   "metadata": {},
   "outputs": [],
   "source": [
    "#file = 'don_quixote.txt'\n",
    "#text = open(file, 'r', encoding='UTF-8').read()\n"
   ]
  },
  {
   "cell_type": "code",
   "execution_count": 7,
   "metadata": {},
   "outputs": [
    {
     "name": "stdout",
     "output_type": "stream",
     "text": [
      "[Shrewsbury, Shropshire, Mount, Shrewsbury, Shropshire, UK, the Firth of Forth, Lamarck, Europe, Cambridge, Cambridge, Wales, Wales, South America, Cambridge, Jago, Cape Verde, Brazil, Patagonia, Megatherium, England, England, England, Chile, Andes, Galápagos Islands, Chile, Australia, Islands, Cape Town, the Falkland Islands, Falmouth, Cornwall, Shrewsbury, Cambridge, London, Megatherium, Glyptodon, South America, Cambridge, Galapagos, London, Geoffroy, Macrauchenia, Galápagos, Shrewsbury, Scotland, Shrewsbury, Marry, London, London, London, London, Cirripedia, Borneo, Dublin, Cambridge, Sedgwick, Britain, Orchids, the Vegetable Kingdom, Mendoza, Argentina, Cambridge, Mount Darwin, Andes, Australia, Australia, the Galápagos Islands, UK, London, Cambridge, Denmark, Sweden, USA, Cambridge, Australia, England, Britain, Evolutionary, Britain, America, Canada, Australia, the United States, South America, Cambridge]\n"
     ]
    }
   ],
   "source": [
    "locations = text_to_places.getLocations(text)\n",
    "print(locations)"
   ]
  },
  {
   "cell_type": "code",
   "execution_count": 8,
   "metadata": {},
   "outputs": [],
   "source": [
    "import geocoder"
   ]
  },
  {
   "cell_type": "code",
   "execution_count": 9,
   "metadata": {},
   "outputs": [],
   "source": [
    "# how to make this faster?\n",
    "latlngs = getLatLng(locations)"
   ]
  },
  {
   "cell_type": "code",
   "execution_count": 11,
   "metadata": {},
   "outputs": [],
   "source": [
    "import geopandas as gpd\n",
    "import pandas as pd"
   ]
  },
  {
   "cell_type": "code",
   "execution_count": 12,
   "metadata": {},
   "outputs": [
    {
     "data": {
      "text/plain": [
       "{'Shrewsbury': <shapely.geometry.point.Point at 0x7f4e7d6ef908>,\n",
       " 'Shropshire': <shapely.geometry.point.Point at 0x7f4e7964a710>,\n",
       " 'Mount': <shapely.geometry.point.Point at 0x7f4e7964a588>,\n",
       " 'UK': <shapely.geometry.point.Point at 0x7f4e7964a630>,\n",
       " 'the Firth of Forth': <shapely.geometry.point.Point at 0x7f4e7964a828>,\n",
       " 'Lamarck': <shapely.geometry.point.Point at 0x7f4e7964a860>,\n",
       " 'Europe': <shapely.geometry.point.Point at 0x7f4e7964a5c0>,\n",
       " 'Cambridge': <shapely.geometry.point.Point at 0x7f4e7964a5f8>,\n",
       " 'Wales': <shapely.geometry.point.Point at 0x7f4e7964a668>,\n",
       " 'South America': <shapely.geometry.point.Point at 0x7f4e7964a4e0>,\n",
       " 'Jago': <shapely.geometry.point.Point at 0x7f4e7964a9e8>,\n",
       " 'Cape Verde': <shapely.geometry.point.Point at 0x7f4e7964a550>,\n",
       " 'Brazil': <shapely.geometry.point.Point at 0x7f4e7964a0f0>,\n",
       " 'Patagonia': <shapely.geometry.point.Point at 0x7f4e7964a128>,\n",
       " 'England': <shapely.geometry.point.Point at 0x7f4e7964aa58>,\n",
       " 'Chile': <shapely.geometry.point.Point at 0x7f4e7964a908>,\n",
       " 'Andes': <shapely.geometry.point.Point at 0x7f4e7964a048>,\n",
       " 'Galápagos Islands': <shapely.geometry.point.Point at 0x7f4e7964a240>,\n",
       " 'Australia': <shapely.geometry.point.Point at 0x7f4e7964a2b0>,\n",
       " 'Islands': <shapely.geometry.point.Point at 0x7f4e7964a8d0>,\n",
       " 'Cape Town': <shapely.geometry.point.Point at 0x7f4e7964a518>,\n",
       " 'the Falkland Islands': <shapely.geometry.point.Point at 0x7f4e7964a940>,\n",
       " 'Falmouth': <shapely.geometry.point.Point at 0x7f4e7964aa20>,\n",
       " 'Cornwall': <shapely.geometry.point.Point at 0x7f4e7964a2e8>,\n",
       " 'London': <shapely.geometry.point.Point at 0x7f4e7964a3c8>,\n",
       " 'Galapagos': <shapely.geometry.point.Point at 0x7f4e7964a390>,\n",
       " 'Geoffroy': <shapely.geometry.point.Point at 0x7f4e7964a400>,\n",
       " 'Galápagos': <shapely.geometry.point.Point at 0x7f4e7964a320>,\n",
       " 'Scotland': <shapely.geometry.point.Point at 0x7f4e7964a358>,\n",
       " 'Marry': <shapely.geometry.point.Point at 0x7f4e7964ad68>,\n",
       " 'Borneo': <shapely.geometry.point.Point at 0x7f4e7964a9b0>,\n",
       " 'Dublin': <shapely.geometry.point.Point at 0x7f4e7964a978>,\n",
       " 'Sedgwick': <shapely.geometry.point.Point at 0x7f4e7964a470>,\n",
       " 'Britain': <shapely.geometry.point.Point at 0x7f4e7964a438>,\n",
       " 'Orchids': <shapely.geometry.point.Point at 0x7f4e7964a4a8>,\n",
       " 'Mendoza': <shapely.geometry.point.Point at 0x7f4e7964a278>,\n",
       " 'Argentina': <shapely.geometry.point.Point at 0x7f4e796417f0>,\n",
       " 'Mount Darwin': <shapely.geometry.point.Point at 0x7f4e79641c18>,\n",
       " 'the Galápagos Islands': <shapely.geometry.point.Point at 0x7f4e79641ba8>,\n",
       " 'Denmark': <shapely.geometry.point.Point at 0x7f4e79641b38>,\n",
       " 'Sweden': <shapely.geometry.point.Point at 0x7f4e79641ef0>,\n",
       " 'USA': <shapely.geometry.point.Point at 0x7f4e79641668>,\n",
       " 'Evolutionary': <shapely.geometry.point.Point at 0x7f4e79641a58>,\n",
       " 'America': <shapely.geometry.point.Point at 0x7f4e79641860>,\n",
       " 'Canada': <shapely.geometry.point.Point at 0x7f4e79641dd8>,\n",
       " 'the United States': <shapely.geometry.point.Point at 0x7f4e79641e48>}"
      ]
     },
     "execution_count": 12,
     "metadata": {},
     "output_type": "execute_result"
    }
   ],
   "source": [
    "latlngs"
   ]
  },
  {
   "cell_type": "code",
   "execution_count": 13,
   "metadata": {},
   "outputs": [],
   "source": [
    "import map_places\n",
    "from map_places import *"
   ]
  },
  {
   "cell_type": "code",
   "execution_count": 14,
   "metadata": {
    "scrolled": false
   },
   "outputs": [
    {
     "data": {
      "text/html": [
       "<div>\n",
       "<style scoped>\n",
       "    .dataframe tbody tr th:only-of-type {\n",
       "        vertical-align: middle;\n",
       "    }\n",
       "\n",
       "    .dataframe tbody tr th {\n",
       "        vertical-align: top;\n",
       "    }\n",
       "\n",
       "    .dataframe thead th {\n",
       "        text-align: right;\n",
       "    }\n",
       "</style>\n",
       "<table border=\"1\" class=\"dataframe\">\n",
       "  <thead>\n",
       "    <tr style=\"text-align: right;\">\n",
       "      <th></th>\n",
       "      <th>Coordinates</th>\n",
       "    </tr>\n",
       "  </thead>\n",
       "  <tbody>\n",
       "    <tr>\n",
       "      <th>Shrewsbury</th>\n",
       "      <td>POINT (-2.7540094 52.7078866)</td>\n",
       "    </tr>\n",
       "    <tr>\n",
       "      <th>Shropshire</th>\n",
       "      <td>POINT (-2.64356407027027 52.65233935)</td>\n",
       "    </tr>\n",
       "    <tr>\n",
       "      <th>Mount</th>\n",
       "      <td>POINT (14.4476911 35.8885993)</td>\n",
       "    </tr>\n",
       "    <tr>\n",
       "      <th>UK</th>\n",
       "      <td>POINT (-3.2765753 54.7023545)</td>\n",
       "    </tr>\n",
       "    <tr>\n",
       "      <th>the Firth of Forth</th>\n",
       "      <td>POINT (-3.2299899 56.0208894)</td>\n",
       "    </tr>\n",
       "    <tr>\n",
       "      <th>Lamarck</th>\n",
       "      <td>POINT (-71.4601806 -33.0538669)</td>\n",
       "    </tr>\n",
       "    <tr>\n",
       "      <th>Europe</th>\n",
       "      <td>POINT (10 51)</td>\n",
       "    </tr>\n",
       "    <tr>\n",
       "      <th>Cambridge</th>\n",
       "      <td>POINT (0.1235817 52.2034823)</td>\n",
       "    </tr>\n",
       "    <tr>\n",
       "      <th>Wales</th>\n",
       "      <td>POINT (-3.73893 52.2928116)</td>\n",
       "    </tr>\n",
       "    <tr>\n",
       "      <th>South America</th>\n",
       "      <td>POINT (-61.0006565 -21.0002179)</td>\n",
       "    </tr>\n",
       "    <tr>\n",
       "      <th>Jago</th>\n",
       "      <td>POINT (-97.14917989999999 33.1737309)</td>\n",
       "    </tr>\n",
       "    <tr>\n",
       "      <th>Cape Verde</th>\n",
       "      <td>POINT (-24.0083947 16.0000552)</td>\n",
       "    </tr>\n",
       "    <tr>\n",
       "      <th>Brazil</th>\n",
       "      <td>POINT (-53.2 -10.3333333)</td>\n",
       "    </tr>\n",
       "    <tr>\n",
       "      <th>Patagonia</th>\n",
       "      <td>POINT (-70.81737413544229 -44.99028505)</td>\n",
       "    </tr>\n",
       "    <tr>\n",
       "      <th>England</th>\n",
       "      <td>POINT (-0.540240286617432 52.7954791)</td>\n",
       "    </tr>\n",
       "    <tr>\n",
       "      <th>Chile</th>\n",
       "      <td>POINT (-71.3187697 -31.7613365)</td>\n",
       "    </tr>\n",
       "    <tr>\n",
       "      <th>Andes</th>\n",
       "      <td>POINT (-70.0118233 -32.6529485)</td>\n",
       "    </tr>\n",
       "    <tr>\n",
       "      <th>Galápagos Islands</th>\n",
       "      <td>POINT (-90.3642695454545 -0.6288)</td>\n",
       "    </tr>\n",
       "    <tr>\n",
       "      <th>Australia</th>\n",
       "      <td>POINT (134.755 -24.7761086)</td>\n",
       "    </tr>\n",
       "    <tr>\n",
       "      <th>Islands</th>\n",
       "      <td>POINT (-96.7599994 33.8389917)</td>\n",
       "    </tr>\n",
       "    <tr>\n",
       "      <th>Cape Town</th>\n",
       "      <td>POINT (18.417396 -33.928992)</td>\n",
       "    </tr>\n",
       "    <tr>\n",
       "      <th>the Falkland Islands</th>\n",
       "      <td>POINT (-64.9672817 -34.9964963)</td>\n",
       "    </tr>\n",
       "    <tr>\n",
       "      <th>Falmouth</th>\n",
       "      <td>POINT (-5.0688262 50.1552197)</td>\n",
       "    </tr>\n",
       "    <tr>\n",
       "      <th>Cornwall</th>\n",
       "      <td>POINT (-4.75 50.416667)</td>\n",
       "    </tr>\n",
       "    <tr>\n",
       "      <th>London</th>\n",
       "      <td>POINT (-0.1276474 51.5073219)</td>\n",
       "    </tr>\n",
       "    <tr>\n",
       "      <th>Galapagos</th>\n",
       "      <td>POINT (-3.3379593 40.6965903)</td>\n",
       "    </tr>\n",
       "    <tr>\n",
       "      <th>Geoffroy</th>\n",
       "      <td>POINT (-79.2215952 47.4919046)</td>\n",
       "    </tr>\n",
       "    <tr>\n",
       "      <th>Galápagos</th>\n",
       "      <td>POINT (-3.3379593 40.6965903)</td>\n",
       "    </tr>\n",
       "    <tr>\n",
       "      <th>Scotland</th>\n",
       "      <td>POINT (-4.1140518 56.7861112)</td>\n",
       "    </tr>\n",
       "    <tr>\n",
       "      <th>Marry</th>\n",
       "      <td>POINT (0.1401709 44.3465908)</td>\n",
       "    </tr>\n",
       "    <tr>\n",
       "      <th>Borneo</th>\n",
       "      <td>POINT (114.740599198093 1.42965855)</td>\n",
       "    </tr>\n",
       "    <tr>\n",
       "      <th>Dublin</th>\n",
       "      <td>POINT (-6.2602732 53.3497645)</td>\n",
       "    </tr>\n",
       "    <tr>\n",
       "      <th>Sedgwick</th>\n",
       "      <td>POINT (-97.4641388 37.6448148)</td>\n",
       "    </tr>\n",
       "    <tr>\n",
       "      <th>Britain</th>\n",
       "      <td>POINT (-3.2765753 54.7023545)</td>\n",
       "    </tr>\n",
       "    <tr>\n",
       "      <th>Orchids</th>\n",
       "      <td>POINT (124.2668392 8.258362099999999)</td>\n",
       "    </tr>\n",
       "    <tr>\n",
       "      <th>Mendoza</th>\n",
       "      <td>POINT (-68.8442956 -32.8897294)</td>\n",
       "    </tr>\n",
       "    <tr>\n",
       "      <th>Argentina</th>\n",
       "      <td>POINT (-64.9672817 -34.9964963)</td>\n",
       "    </tr>\n",
       "    <tr>\n",
       "      <th>Mount Darwin</th>\n",
       "      <td>POINT (31.6393395386574 -16.54064295)</td>\n",
       "    </tr>\n",
       "    <tr>\n",
       "      <th>the Galápagos Islands</th>\n",
       "      <td>POINT (-90.3642695454545 -0.6288)</td>\n",
       "    </tr>\n",
       "    <tr>\n",
       "      <th>Denmark</th>\n",
       "      <td>POINT (10.3333283 55.670249)</td>\n",
       "    </tr>\n",
       "    <tr>\n",
       "      <th>Sweden</th>\n",
       "      <td>POINT (14.5208584 59.6749712)</td>\n",
       "    </tr>\n",
       "    <tr>\n",
       "      <th>USA</th>\n",
       "      <td>POINT (-100.4458825 39.7837304)</td>\n",
       "    </tr>\n",
       "    <tr>\n",
       "      <th>Evolutionary</th>\n",
       "      <td>POINT (-2.625799 51.477925)</td>\n",
       "    </tr>\n",
       "    <tr>\n",
       "      <th>America</th>\n",
       "      <td>POINT (-59.0017622330522 -27.4351024)</td>\n",
       "    </tr>\n",
       "    <tr>\n",
       "      <th>Canada</th>\n",
       "      <td>POINT (-107.9917071 61.0666922)</td>\n",
       "    </tr>\n",
       "    <tr>\n",
       "      <th>the United States</th>\n",
       "      <td>POINT (-100.4458825 39.7837304)</td>\n",
       "    </tr>\n",
       "  </tbody>\n",
       "</table>\n",
       "</div>"
      ],
      "text/plain": [
       "                                                   Coordinates\n",
       "Shrewsbury                       POINT (-2.7540094 52.7078866)\n",
       "Shropshire               POINT (-2.64356407027027 52.65233935)\n",
       "Mount                            POINT (14.4476911 35.8885993)\n",
       "UK                               POINT (-3.2765753 54.7023545)\n",
       "the Firth of Forth               POINT (-3.2299899 56.0208894)\n",
       "Lamarck                        POINT (-71.4601806 -33.0538669)\n",
       "Europe                                           POINT (10 51)\n",
       "Cambridge                         POINT (0.1235817 52.2034823)\n",
       "Wales                              POINT (-3.73893 52.2928116)\n",
       "South America                  POINT (-61.0006565 -21.0002179)\n",
       "Jago                     POINT (-97.14917989999999 33.1737309)\n",
       "Cape Verde                      POINT (-24.0083947 16.0000552)\n",
       "Brazil                               POINT (-53.2 -10.3333333)\n",
       "Patagonia              POINT (-70.81737413544229 -44.99028505)\n",
       "England                  POINT (-0.540240286617432 52.7954791)\n",
       "Chile                          POINT (-71.3187697 -31.7613365)\n",
       "Andes                          POINT (-70.0118233 -32.6529485)\n",
       "Galápagos Islands            POINT (-90.3642695454545 -0.6288)\n",
       "Australia                          POINT (134.755 -24.7761086)\n",
       "Islands                         POINT (-96.7599994 33.8389917)\n",
       "Cape Town                         POINT (18.417396 -33.928992)\n",
       "the Falkland Islands           POINT (-64.9672817 -34.9964963)\n",
       "Falmouth                         POINT (-5.0688262 50.1552197)\n",
       "Cornwall                               POINT (-4.75 50.416667)\n",
       "London                           POINT (-0.1276474 51.5073219)\n",
       "Galapagos                        POINT (-3.3379593 40.6965903)\n",
       "Geoffroy                        POINT (-79.2215952 47.4919046)\n",
       "Galápagos                        POINT (-3.3379593 40.6965903)\n",
       "Scotland                         POINT (-4.1140518 56.7861112)\n",
       "Marry                             POINT (0.1401709 44.3465908)\n",
       "Borneo                     POINT (114.740599198093 1.42965855)\n",
       "Dublin                           POINT (-6.2602732 53.3497645)\n",
       "Sedgwick                        POINT (-97.4641388 37.6448148)\n",
       "Britain                          POINT (-3.2765753 54.7023545)\n",
       "Orchids                  POINT (124.2668392 8.258362099999999)\n",
       "Mendoza                        POINT (-68.8442956 -32.8897294)\n",
       "Argentina                      POINT (-64.9672817 -34.9964963)\n",
       "Mount Darwin             POINT (31.6393395386574 -16.54064295)\n",
       "the Galápagos Islands        POINT (-90.3642695454545 -0.6288)\n",
       "Denmark                           POINT (10.3333283 55.670249)\n",
       "Sweden                           POINT (14.5208584 59.6749712)\n",
       "USA                            POINT (-100.4458825 39.7837304)\n",
       "Evolutionary                       POINT (-2.625799 51.477925)\n",
       "America                  POINT (-59.0017622330522 -27.4351024)\n",
       "Canada                         POINT (-107.9917071 61.0666922)\n",
       "the United States              POINT (-100.4458825 39.7837304)"
      ]
     },
     "execution_count": 14,
     "metadata": {},
     "output_type": "execute_result"
    }
   ],
   "source": [
    "gdf = getDataFrame(latlngs)\n",
    "gdf"
   ]
  },
  {
   "cell_type": "code",
   "execution_count": 17,
   "metadata": {},
   "outputs": [],
   "source": [
    "import matplotlib.pyplot as plt"
   ]
  },
  {
   "cell_type": "code",
   "execution_count": 19,
   "metadata": {},
   "outputs": [],
   "source": [
    "world = gpd.read_file(gpd.datasets.get_path('naturalearth_lowres'))"
   ]
  },
  {
   "cell_type": "code",
   "execution_count": 63,
   "metadata": {},
   "outputs": [
    {
     "name": "stderr",
     "output_type": "stream",
     "text": [
      "/home/jfh/.local/lib/python3.6/site-packages/ipykernel_launcher.py:25: RuntimeWarning: divide by zero encountered in log\n"
     ]
    },
    {
     "data": {
      "image/png": "[encoded data removed]",
      "text/plain": [
       "<Figure size 864x864 with 1 Axes>"
      ]
     },
     "metadata": {
      "needs_background": "light"
     },
     "output_type": "display_data"
    }
   ],
   "source": [
    "%matplotlib inline\n",
    "import numpy as np\n",
    "from scipy import ndimage\n",
    "\n",
    "import matplotlib.pylab as pylab\n",
    "import matplotlib.pyplot as plt\n",
    "#pylab.rcParams['figure.figsize'] = 8, 6\n",
    "\n",
    "ax = world.plot(\n",
    "    color='white', edgecolor='black', figsize= (12,12), alpha=0.15\n",
    ")\n",
    "\n",
    "def heatmap(d, bins=(200,200), smoothing=3, cmap='Greys'):\n",
    "    def getx(pt):\n",
    "        return pt.coords[0][0]\n",
    "\n",
    "    def gety(pt):\n",
    "        return pt.coords[0][1]\n",
    "\n",
    "    x = list(d.geometry.apply(getx))\n",
    "    y = list(d.geometry.apply(gety))\n",
    "    heatmap, xedges, yedges = np.histogram2d(y, x, bins=bins)\n",
    "    extent = [yedges[0], yedges[-1], xedges[-1], xedges[0]]\n",
    "    #extent = (-180,180,-90,90)\n",
    "    logheatmap = np.log(heatmap)\n",
    "    logheatmap[np.isneginf(logheatmap)] = 0\n",
    "    logheatmap = ndimage.filters.gaussian_filter(logheatmap, smoothing, mode='nearest')\n",
    "    \n",
    "    plt.imshow(logheatmap, cmap=cmap, extent=extent)\n",
    "    #plt.colorbar()\n",
    "    plt.gca().invert_yaxis()\n",
    "    \n",
    "    plt.xlim(-180, 180)\n",
    "    plt.ylim(-90, 90)\n",
    "    plt.show()\n",
    "    \n",
    "heatmap(gdf)"
   ]
  },
  {
   "cell_type": "code",
   "execution_count": 24,
   "metadata": {},
   "outputs": [],
   "source": [
    "# ax = world.plot(\n",
    "#     color='white', edgecolor='black', figsize= (12,12)\n",
    "# )\n",
    "\n",
    "# gdf.plot(ax=ax, color='red')\n",
    "# for idx,row in gdf.iterrows():\n",
    "#     text_coords = [arr.tolist()[0] for arr in row.Coordinates.xy]\n",
    "#     plt.annotate(s=idx, xy=text_coords, horizontalalignment='center', size=\"medium\")\n",
    "\n",
    "# plt.xlim(-180, 180)\n",
    "# plt.ylim(-90, 90)\n",
    "# plt.show()"
   ]
  },
  {
   "cell_type": "code",
   "execution_count": null,
   "metadata": {},
   "outputs": [],
   "source": []
  }
 ],
 "metadata": {
  "kernelspec": {
   "display_name": "Python 3",
   "language": "python",
   "name": "python3"
  },
  "language_info": {
   "codemirror_mode": {
    "name": "ipython",
    "version": 3
   },
   "file_extension": ".py",
   "mimetype": "text/x-python",
   "name": "python",
   "nbconvert_exporter": "python",
   "pygments_lexer": "ipython3",
   "version": "3.6.7"
  }
 },
 "nbformat": 4,
 "nbformat_minor": 2
}
